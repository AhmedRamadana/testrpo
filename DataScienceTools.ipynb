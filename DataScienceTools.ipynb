{
 "cells": [
  {
   "cell_type": "markdown",
   "metadata": {},
   "source": [
    "# Data Science Tools "
   ]
  },
  {
   "cell_type": "markdown",
   "metadata": {},
   "source": [
    "In this notebook, Data Science Tools is summarized "
   ]
  },
  {
   "cell_type": "markdown",
   "metadata": {},
   "source": [
    " list data science languages:\n",
    "\n",
    " 1. Python \n",
    " 2. R\n",
    " 3. Java\n",
    " 4. C++\n",
    " 5. SQL\n",
    " 6. Scala\n",
    " 7. Julia\n",
    " "
   ]
  },
  {
   "cell_type": "markdown",
   "metadata": {},
   "source": [
    "The commonly used libraries used by Data Scientists include:\n",
    "1. Numby\n",
    "2. TensorFlow\n",
    "3. Scipy\n",
    "4. Panadas\n",
    "5. Matplotlib\n",
    "6. PyTorch\n",
    "7. Keras\n",
    "8. Scikit-learn\n",
    "9. seaborn\n",
    "10. Apache Spark"
   ]
  },
  {
   "cell_type": "raw",
   "metadata": {},
   "source": [
    "               |Data Science Tools|\n",
    "               |-----|\n",
    "               |TensorFlow|\n",
    "               |Apache Hadoop| \n",
    "               |R Studio|\n",
    "               |Anaconda|"
   ]
  },
  {
   "cell_type": "markdown",
   "metadata": {},
   "source": [
    "# A few examples of evaluating arithmetic expressions in Python"
   ]
  },
  {
   "cell_type": "code",
   "execution_count": 4,
   "metadata": {
    "tags": []
   },
   "outputs": [
    {
     "data": {
      "text/plain": [
       "23"
      ]
     },
     "execution_count": 4,
     "metadata": {},
     "output_type": "execute_result"
    }
   ],
   "source": [
    "# Example to multiply and add numbers\n",
    "(5*4)+3"
   ]
  },
  {
   "cell_type": "code",
   "execution_count": 2,
   "metadata": {
    "tags": []
   },
   "outputs": [
    {
     "name": "stdout",
     "output_type": "stream",
     "text": [
      "120 minutes is equal to 2.0 hours.\n"
     ]
    }
   ],
   "source": [
    "# this will convert 120 minutes to hours by dividing by 60\n",
    "minutes = 120\n",
    "hours = minutes / 60\n",
    "\n",
    "print(f\"{minutes} minutes is equal to {hours} hours.\")\n"
   ]
  },
  {
   "cell_type": "markdown",
   "metadata": {},
   "source": [
    "__list Objectives__\n",
    "* list languages for data science \n",
    "* list of well known data science \n",
    "* list libraries for data sceince\n",
    "* Create Markdown Cell"
   ]
  },
  {
   "cell_type": "markdown",
   "metadata": {
    "tags": []
   },
   "source": [
    "## Author\n",
    "Ahmed Ramadan"
   ]
  }
 ],
 "metadata": {
  "kernelspec": {
   "display_name": "Python",
   "language": "python",
   "name": "conda-env-python-py"
  },
  "language_info": {
   "codemirror_mode": {
    "name": "ipython",
    "version": 3
   },
   "file_extension": ".py",
   "mimetype": "text/x-python",
   "name": "python",
   "nbconvert_exporter": "python",
   "pygments_lexer": "ipython3",
   "version": "3.7.12"
  },
  "toc-autonumbering": true
 },
 "nbformat": 4,
 "nbformat_minor": 4
}
